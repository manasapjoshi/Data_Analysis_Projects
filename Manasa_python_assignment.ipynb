{
 "cells": [
  {
   "cell_type": "code",
   "execution_count": 27,
   "id": "47b9fa4b-366b-4266-bb4a-9a5c89498207",
   "metadata": {},
   "outputs": [
    {
     "name": "stdout",
     "output_type": "stream",
     "text": [
      "[4, 4, 4]\n",
      "[4, 4, 4]\n",
      "[4, 4, 5]\n"
     ]
    }
   ],
   "source": [
    "#Add two matrics, using for loop\n",
    "a=[[1,2,3],\n",
    "   [1,2,3]]\n",
    "b=[[3,2,1],\n",
    "   [3,2,2]]\n",
    "result=[[0,0,0],\n",
    "        [0,0,0]]\n",
    "for i in range (len(a)):\n",
    "    #print (a[i],\"len of a \",len(a),\"len of a[i] \", len(a[i]))\n",
    "    for j in range (len(a[0])):\n",
    "        result [i][j]=a[i][j]+b[i][j]\n",
    "for r in result:\n",
    "   print (r)\n"
   ]
  },
  {
   "cell_type": "code",
   "execution_count": 46,
   "id": "c8f2645d-e9bf-422d-9a7e-917f851db859",
   "metadata": {},
   "outputs": [
    {
     "name": "stdout",
     "output_type": "stream",
     "text": [
      "[2, 4, 6]\n",
      "[22, 22, 22]\n",
      "[6, 4, 2]\n"
     ]
    }
   ],
   "source": [
    "#add two matrics using list comprehension\n",
    "a=[[1,2,3],\n",
    "   [10,11,12],\n",
    "   [3,2,1]]\n",
    "b=[[1,2,3],\n",
    "   [12,11,10],\n",
    "   [3,2,1]]\n",
    "\n",
    "result=[[a[i][j]+b[i][j] for j in range (len(a[0]))] for i in range (len(a))]\n",
    "for r in result:\n",
    "   print (r)\n"
   ]
  },
  {
   "cell_type": "code",
   "execution_count": 49,
   "id": "2fa3a733-277d-462a-97e8-f04e17b6ff32",
   "metadata": {},
   "outputs": [
    {
     "name": "stdout",
     "output_type": "stream",
     "text": [
      "[[ 2  4  6]\n",
      " [22 22 22]\n",
      " [ 6  4  2]]\n"
     ]
    }
   ],
   "source": [
    "#add 2 matrix using numpy\n",
    "import numpy as np\n",
    "a=np.array([[1,2,3],\n",
    "            [10,11,12],\n",
    "            [3,2,1]])\n",
    "b=np.array([[1,2,3],\n",
    "            [12,11,10],\n",
    "            [3,2,1]])\n",
    "result=a+b\n",
    "print(result)"
   ]
  },
  {
   "cell_type": "code",
   "execution_count": 52,
   "id": "7c0388a8-ce2c-4469-9844-d50905ab2b1a",
   "metadata": {},
   "outputs": [
    {
     "name": "stdout",
     "output_type": "stream",
     "text": [
      "Transposed Matrix is  [[ 2 22  6]\n",
      " [ 4 22  4]\n",
      " [ 6 22  2]]\n"
     ]
    }
   ],
   "source": [
    "#transpose of a matrix\n",
    "import numpy as np\n",
    "a=np.array([[ 2, 4, 6],\n",
    "            [22, 22, 22],\n",
    "            [ 6, 4, 2]])\n",
    "transpose_matrix=a.transpose()\n",
    "print(\"Transposed Matrix is \",transpose_matrix)"
   ]
  },
  {
   "cell_type": "code",
   "execution_count": 53,
   "id": "a046dcac-fdb9-45da-812d-da46fd6069ad",
   "metadata": {},
   "outputs": [
    {
     "name": "stdout",
     "output_type": "stream",
     "text": [
      "Transposed Matrix is  [[ 2 22  6]]\n"
     ]
    }
   ],
   "source": [
    "import numpy as np\n",
    "a=np.array([[ 2],\n",
    "            [22],\n",
    "            [ 6]])\n",
    "transpose_matrix=a.transpose()\n",
    "print(\"Transposed Matrix is \",transpose_matrix)"
   ]
  },
  {
   "cell_type": "code",
   "execution_count": 56,
   "id": "e70a798b-a885-4912-b913-501577c9727b",
   "metadata": {},
   "outputs": [
    {
     "name": "stdout",
     "output_type": "stream",
     "text": [
      "[[ 89 107]\n",
      " [ 47  49]\n",
      " [ 40  44]]\n"
     ]
    }
   ],
   "source": [
    "#multiply a matrix\n",
    "import numpy as np\n",
    "a=np.array( [[4,9,9],\n",
    "             [9,1,6],\n",
    "             [9,2,3]])\n",
    "b=np.array( [[2,2],\n",
    "             [5,7],\n",
    "             [4,4]])\n",
    "result1=a@b\n",
    "print(result1)"
   ]
  },
  {
   "cell_type": "code",
   "execution_count": 59,
   "id": "c548a090-150a-4e53-9c4d-e916bcd00f28",
   "metadata": {},
   "outputs": [
    {
     "name": "stdout",
     "output_type": "stream",
     "text": [
      "learn to codeyay\n"
     ]
    }
   ],
   "source": [
    "#remove punctuation from the string\n",
    "import string\n",
    "s = \"learn. to. code.yay!?\"\n",
    "for char in string.punctuation:\n",
    "    s = s.replace(char, \"\")\n",
    "print(s)"
   ]
  },
  {
   "cell_type": "code",
   "execution_count": 61,
   "id": "874871ba-0f2a-4916-89a3-0540b2cdcffe",
   "metadata": {},
   "outputs": [
    {
     "name": "stdout",
     "output_type": "stream",
     "text": [
      "Total number of vowels in the string: 7\n"
     ]
    }
   ],
   "source": [
    "#count the number of each vowels from string\n",
    "sum=0\n",
    "input_string=\"Manasa is learning\"\n",
    "for vow in input_string:\n",
    "    if vow in \"aeiou\":\n",
    "        sum=sum+1\n",
    "print(f'Total number of vowels in the string: {sum}')\n",
    "    "
   ]
  },
  {
   "cell_type": "code",
   "execution_count": null,
   "id": "645496eb-9a9e-408b-938a-b3ca50f99d4d",
   "metadata": {},
   "outputs": [],
   "source": []
  }
 ],
 "metadata": {
  "kernelspec": {
   "display_name": "Python 3 (ipykernel)",
   "language": "python",
   "name": "python3"
  },
  "language_info": {
   "codemirror_mode": {
    "name": "ipython",
    "version": 3
   },
   "file_extension": ".py",
   "mimetype": "text/x-python",
   "name": "python",
   "nbconvert_exporter": "python",
   "pygments_lexer": "ipython3",
   "version": "3.11.7"
  }
 },
 "nbformat": 4,
 "nbformat_minor": 5
}
